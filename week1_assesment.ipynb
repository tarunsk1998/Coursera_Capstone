Coursera Final project

In [1]:
import pandas as pd
import numpy as np
In [3]:
print("Hello Capstone Project Course!")
Hello Capstone Project Course!
